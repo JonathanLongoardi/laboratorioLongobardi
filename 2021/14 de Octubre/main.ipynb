{
 "cells": [
  {
   "cell_type": "code",
   "execution_count": 4,
   "metadata": {},
   "outputs": [],
   "source": [
    "import requests\n",
    "\n",
    "archivo = open(\"./Rusers.csv\", \"w\", encoding='utf-8')\n",
    "columnas = \"genero,nombre,apellido,pais\"\n",
    "archivo.write(columnas)\n",
    "archivo.close()\n",
    "\n",
    "for i in range(30):\n",
    "    respuesta = requests.get('https://randomuser.me/api/')\n",
    "    respuesta.status_code\n",
    "    informacion = respuesta.json()[\"results\"][0]\n",
    "    nombre = informacion[\"name\"][\"first\"]\n",
    "    genero = informacion[\"gender\"]\n",
    "    apellido = informacion[\"name\"][\"last\"]\n",
    "    pais = informacion[\"location\"][\"country\"]\n",
    "\n",
    "    linea = genero + \",\" + nombre + \",\" + apellido + \",\" + pais + \"\\n\"\n",
    "\n",
    "    archivo = open(\"./Rusers.csv\", \"a\", encoding='utf-8')\n",
    "    archivo.write(linea)\n",
    "    archivo.close()"
   ]
  }
 ],
 "metadata": {
  "interpreter": {
   "hash": "986ac33fa98770886d10e5b76afd088ce281b7076b81627dc8ed0008ebf6f07b"
  },
  "kernelspec": {
   "display_name": "Python 3.9.7 64-bit ('base': conda)",
   "language": "python",
   "name": "python3"
  },
  "language_info": {
   "name": "python",
   "version": "3.9.7"
  },
  "orig_nbformat": 4
 },
 "nbformat": 4,
 "nbformat_minor": 2
}
