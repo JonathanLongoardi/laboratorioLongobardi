{
 "cells": [
  {
   "cell_type": "code",
   "execution_count": 23,
   "metadata": {},
   "outputs": [
    {
     "name": "stdout",
     "output_type": "stream",
     "text": [
      "1\n",
      "           barrio    perimetro          area\n",
      "12  SAN CRISTOBAL  5987.226479  2.043711e+06\n",
      "24      BALVANERA  8375.821811  4.342280e+06\n"
     ]
    }
   ],
   "source": [
    "import pandas as pd\n",
    "\n",
    "dataFbarrios = pd.read_csv(\"./barrios.csv\", sep=\",\")\n",
    "dataFcasos = pd.read_csv(\"./casos.csv\", sep=\",\")\n",
    "dataFcomunas = pd.read_csv(\"./comunas.csv\", sep=\",\")\n",
    "\n",
    "print(\"1\")\n",
    "c3 = dataFbarrios.comuna == 3\n",
    "barrios3 = dataFbarrios[[\"barrio\",\"perimetro\",\"area\"]]\n",
    "print(barrios3[c3])"
   ]
  },
  {
   "cell_type": "code",
   "execution_count": 24,
   "metadata": {},
   "outputs": [
    {
     "name": "stdout",
     "output_type": "stream",
     "text": [
      "2\n",
      "               barrio     perimetro          area\n",
      "4             ALMAGRO   8537.901368  4.050752e+06\n",
      "5           CABALLITO  10990.964471  6.851029e+06\n",
      "9              FLORES  15772.439510  8.590784e+06\n",
      "13              BOEDO   6602.510266  2.609851e+06\n",
      "17          MATADEROS  11124.635792  7.398179e+06\n",
      "18       VILLA LUGANO  15057.468389  9.296142e+06\n",
      "30  PARQUE AVELLANEDA  10165.614028  4.732708e+06\n",
      "31   PARQUE CHACABUCO   8406.914321  3.832117e+06\n",
      "34    VILLA RIACHUELO  10596.826739  4.232596e+06\n",
      "35      VILLA SOLDATI  12441.695877  8.688164e+06\n",
      "38            LINIERS   9256.927321  4.374419e+06\n"
     ]
    }
   ],
   "source": [
    "print(\"2\")\n",
    "c410 = (dataFbarrios.comuna > 4) & (dataFbarrios.comuna < 10)\n",
    "barrios410 = dataFbarrios[[\"barrio\",\"perimetro\",\"area\"]]\n",
    "print(barrios410[c410])"
   ]
  },
  {
   "cell_type": "code",
   "execution_count": 25,
   "metadata": {},
   "outputs": [
    {
     "name": "stdout",
     "output_type": "stream",
     "text": [
      "3\n",
      "   COMUNAS     PERIMETRO          AREA\n",
      "1      6.0  10990.964471  6.851029e+06\n"
     ]
    }
   ],
   "source": [
    "print(\"3\")\n",
    "comunaBarrios = dataFbarrios[\"comuna\"]\n",
    "comunaBI5 = dataFbarrios.comuna[dataFbarrios.index == 5]\n",
    "comunaInt = dataFcomunas.COMUNAS==int(comunaBI5)\n",
    "combarri5 = dataFcomunas[[\"COMUNAS\",\"PERIMETRO\",\"AREA\"]]\n",
    "print(combarri5[comunaInt])"
   ]
  },
  {
   "cell_type": "code",
   "execution_count": 26,
   "metadata": {},
   "outputs": [
    {
     "name": "stdout",
     "output_type": "stream",
     "text": [
      "4\n",
      "Comuna 15\n",
      "Comuna 11\n",
      "Comuna 10\n",
      "Comuna 8\n",
      "Comuna 12\n"
     ]
    }
   ],
   "source": [
    "print(\"4\")\n",
    "cV = dataFbarrios.barrio.str.startswith('V')\n",
    "barriosCV = dataFbarrios.comuna[cV].unique().tolist()\n",
    "for i in barriosCV:\n",
    "  print(\"Comuna\",i)"
   ]
  },
  {
   "cell_type": "code",
   "execution_count": 27,
   "metadata": {},
   "outputs": [
    {
     "name": "stdout",
     "output_type": "stream",
     "text": [
      "5\n",
      "               barrio          area\n",
      "0           CHACARITA  3.115707e+06\n",
      "1            PATERNAL  2.229829e+06\n",
      "2        VILLA CRESPO  3.615978e+06\n",
      "3    VILLA DEL PARQUE  3.399596e+06\n",
      "4             ALMAGRO  4.050752e+06\n",
      "5           CABALLITO  6.851029e+06\n",
      "6    VILLA SANTA RITA  2.153691e+06\n",
      "7        MONTE CASTRO  2.627481e+06\n",
      "8          VILLA REAL  1.334146e+06\n",
      "10           FLORESTA  2.320641e+06\n",
      "12      SAN CRISTOBAL  2.043711e+06\n",
      "14    VELEZ SARSFIELD  2.400518e+06\n",
      "15         VILLA LURO  2.566937e+06\n",
      "16   PARQUE PATRICIOS  3.743440e+06\n",
      "17          MATADEROS  7.398179e+06\n",
      "18       VILLA LUGANO  9.296142e+06\n",
      "19          SAN TELMO  1.232270e+06\n",
      "20           SAAVEDRA  5.538677e+06\n",
      "21            COGHLAN  1.279951e+06\n",
      "22      VILLA URQUIZA  5.449059e+06\n",
      "23         COLEGIALES  2.289774e+06\n",
      "24          BALVANERA  4.342280e+06\n",
      "25  VILLA GRAL. MITRE  2.162275e+06\n",
      "26        PARQUE CHAS  1.385412e+06\n",
      "27          AGRONOMIA  2.122169e+06\n",
      "28      VILLA ORTUZAR  1.853802e+06\n",
      "29           BARRACAS  7.953453e+06\n",
      "30  PARQUE AVELLANEDA  4.732708e+06\n",
      "31   PARQUE CHACABUCO  3.832117e+06\n",
      "32      NUEVA POMPEYA  4.951511e+06\n",
      "33            PALERMO  1.584587e+07\n",
      "34    VILLA RIACHUELO  4.232596e+06\n",
      "35      VILLA SOLDATI  8.688164e+06\n",
      "36   VILLA PUEYRREDON  3.303240e+06\n",
      "37       VILLA DEVOTO  6.404481e+06\n",
      "39          VERSALLES  1.406834e+06\n",
      "40      PUERTO MADERO  5.040971e+06\n",
      "41          MONSERRAT  2.198622e+06\n",
      "42        SAN NICOLAS  2.289008e+06\n",
      "43           BELGRANO  7.999240e+06\n",
      "44           RECOLETA  6.317265e+06\n",
      "47               BOCA  5.036240e+06\n"
     ]
    }
   ],
   "source": [
    "print(\"5\")\n",
    "cA = dataFbarrios.barrio.str.contains('A')\n",
    "barriosA = dataFbarrios[[\"barrio\",\"area\"]]\n",
    "print(barriosA[cA])"
   ]
  },
  {
   "cell_type": "code",
   "execution_count": 28,
   "metadata": {},
   "outputs": [
    {
     "name": "stdout",
     "output_type": "stream",
     "text": [
      "6\n",
      "12    21411.738344\n",
      "Name: PERIMETRO, dtype: float64\n"
     ]
    }
   ],
   "source": [
    "print(\"6\")\n",
    "comunaC15 = dataFcasos.comuna[dataFcasos.index == 15]\n",
    "comunavalor = dataFcomunas.COMUNAS==int(comunaC15)\n",
    "print(dataFcomunas.PERIMETRO[comunavalor])"
   ]
  },
  {
   "cell_type": "code",
   "execution_count": 29,
   "metadata": {},
   "outputs": [
    {
     "name": "stdout",
     "output_type": "stream",
     "text": [
      "7\n",
      "             barrio          area\n",
      "3  VILLA DEL PARQUE  3.399596e+06\n"
     ]
    }
   ],
   "source": [
    "print(\"7\")\n",
    "barrioC7 = dataFcasos.barrio[dataFcasos.index == 7]\n",
    "bar = barrioC7.tolist()[0]\n",
    "condicion = dataFbarrios.barrio == bar\n",
    "barDf = dataFbarrios[[\"barrio\",\"area\"]]\n",
    "print(barDf[condicion])"
   ]
  },
  {
   "cell_type": "code",
   "execution_count": 30,
   "metadata": {},
   "outputs": [
    {
     "name": "stdout",
     "output_type": "stream",
     "text": [
      "8\n",
      "              barrio  comuna\n",
      "0          CHACARITA      15\n",
      "4            ALMAGRO       5\n",
      "9             FLORES       7\n",
      "11      CONSTITUCION       1\n",
      "17         MATADEROS       9\n",
      "20          SAAVEDRA      12\n",
      "22     VILLA URQUIZA      12\n",
      "28     VILLA ORTUZAR      15\n",
      "29          BARRACAS       4\n",
      "31  PARQUE CHACABUCO       7\n",
      "33           PALERMO      14\n",
      "42       SAN NICOLAS       1\n",
      "43          BELGRANO      13\n",
      "44          RECOLETA       2\n",
      "45            RETIRO       1\n"
     ]
    }
   ],
   "source": [
    "print(\"8\")\n",
    "c6m7m = (dataFcasos.numero_de_caso > 6000000) & (dataFcasos.numero_de_caso < 7000000)\n",
    "casoscomuna = dataFcasos.barrio[c6m7m]\n",
    "b = dataFbarrios.barrio.isin(casoscomuna)\n",
    "barriosDf = dataFbarrios[[\"barrio\",\"comuna\"]]\n",
    "print(barriosDf[b])"
   ]
  },
  {
   "cell_type": "code",
   "execution_count": 31,
   "metadata": {},
   "outputs": [
    {
     "name": "stdout",
     "output_type": "stream",
     "text": [
      "9\n",
      "        genero  edad\n",
      "7    masculino    29\n",
      "150  masculino    30\n",
      "354  masculino    52\n",
      "459   femenino    25\n",
      "509   femenino    41\n"
     ]
    }
   ],
   "source": [
    "print(\"9\")\n",
    "b3 = dataFbarrios.barrio[dataFbarrios.index == 3].tolist()[0]\n",
    "barr = dataFcasos.barrio == b3\n",
    "B3df = dataFcasos[[\"genero\",\"edad\"]]\n",
    "print(B3df[barr])"
   ]
  },
  {
   "cell_type": "code",
   "execution_count": 32,
   "metadata": {},
   "outputs": [
    {
     "name": "stdout",
     "output_type": "stream",
     "text": [
      "10\n",
      "               barrio\n",
      "0           CHACARITA\n",
      "7        MONTE CASTRO\n",
      "9              FLORES\n",
      "11       CONSTITUCION\n",
      "13              BOEDO\n",
      "14    VELEZ SARSFIELD\n",
      "17          MATADEROS\n",
      "18       VILLA LUGANO\n",
      "19          SAN TELMO\n",
      "20           SAAVEDRA\n",
      "24          BALVANERA\n",
      "25  VILLA GRAL. MITRE\n",
      "29           BARRACAS\n",
      "30  PARQUE AVELLANEDA\n",
      "31   PARQUE CHACABUCO\n",
      "33            PALERMO\n",
      "35      VILLA SOLDATI\n",
      "41          MONSERRAT\n",
      "44           RECOLETA\n",
      "46              NUÑEZ\n"
     ]
    }
   ],
   "source": [
    "print(\"10\")\n",
    "bei = dataFcasos.barrio[dataFcasos.tipo_contagio == \"En Investigación\"]\n",
    "bei1 = dataFbarrios.barrio.isin(bei)\n",
    "barrioeidf = dataFbarrios[[\"barrio\"]]\n",
    "print(barrioeidf[bei1])"
   ]
  },
  {
   "cell_type": "code",
   "execution_count": 33,
   "metadata": {},
   "outputs": [
    {
     "name": "stdout",
     "output_type": "stream",
     "text": [
      "11\n",
      "           barrio\n",
      "0       CHACARITA\n",
      "4         ALMAGRO\n",
      "5       CABALLITO\n",
      "9          FLORES\n",
      "17      MATADEROS\n",
      "18   VILLA LUGANO\n",
      "22  VILLA URQUIZA\n",
      "32  NUEVA POMPEYA\n",
      "37   VILLA DEVOTO\n",
      "43       BELGRANO\n",
      "44       RECOLETA\n",
      "45         RETIRO\n"
     ]
    }
   ],
   "source": [
    "print(\"11\")\n",
    "bme = dataFcasos.barrio[dataFcasos.edad < 18]\n",
    "bmec = dataFbarrios.barrio.isin(bme)\n",
    "bmedf = dataFbarrios[[\"barrio\"]]\n",
    "print(bmedf[bmec])"
   ]
  },
  {
   "cell_type": "code",
   "execution_count": 34,
   "metadata": {},
   "outputs": [
    {
     "name": "stdout",
     "output_type": "stream",
     "text": [
      "12\n",
      "     numero_de_caso     genero  edad\n",
      "7           7673498  masculino    29\n",
      "19          7673629  masculino    68\n",
      "49          7692683  masculino    25\n",
      "99          7718539  masculino    18\n",
      "150         7721916  masculino    30\n",
      "154         7722007  masculino    31\n",
      "160         7725230  masculino    58\n",
      "161         7725232  masculino    33\n",
      "167         7726081   femenino    35\n",
      "208         7735475  masculino    34\n",
      "230         7736770  masculino    69\n",
      "231         7736847  masculino    45\n",
      "240         7736991  masculino    77\n",
      "264         7717778  masculino    43\n",
      "266         7717796   femenino    38\n",
      "280         7718104  masculino    63\n",
      "346         9690247   femenino    58\n",
      "354        10487114  masculino    52\n",
      "379         8367848   femenino    40\n",
      "413         6270671  masculino    56\n",
      "435        15519416   femenino    42\n",
      "437         1629445   femenino    27\n",
      "446         5018271  masculino    72\n",
      "451         5362506  masculino    72\n",
      "459         5321867   femenino    25\n",
      "509         7721664   femenino    41\n",
      "566         4888070   femenino    21\n",
      "569         4927681   femenino     7\n"
     ]
    }
   ],
   "source": [
    "print(\"12\")\n",
    "cbmy4 = dataFbarrios.barrio[dataFbarrios.index < 4]\n",
    "bbc = dataFcasos.barrio.isin(cbmy4)\n",
    "csdf = dataFcasos[[\"numero_de_caso\",\"genero\",\"edad\"]]\n",
    "print(csdf[bbc])"
   ]
  },
  {
   "cell_type": "code",
   "execution_count": 35,
   "metadata": {},
   "outputs": [
    {
     "name": "stdout",
     "output_type": "stream",
     "text": [
      "13\n",
      "     numero_de_caso     genero  edad\n",
      "2           7673340   femenino    12\n",
      "3           7673364   femenino    55\n",
      "5           7673446  masculino    63\n",
      "7           7673498  masculino    29\n",
      "9           7673546   femenino    34\n",
      "..              ...        ...   ...\n",
      "588         5149936   femenino    74\n",
      "590         5166041  masculino    55\n",
      "591         5166069  masculino    37\n",
      "593         5178556  masculino    22\n",
      "594         5178787   femenino    23\n",
      "\n",
      "[306 rows x 3 columns]\n"
     ]
    }
   ],
   "source": [
    "print(\"13\")\n",
    "nocm13 = dataFcomunas.COMUNAS[dataFcomunas.COMUNAS != 13]\n",
    "cc13 = dataFcasos.comuna.isin(nocm13)\n",
    "csDF = dataFcasos[[\"numero_de_caso\",\"genero\",\"edad\"]]\n",
    "print(csDF[cc13])"
   ]
  }
 ],
 "metadata": {
  "interpreter": {
   "hash": "986ac33fa98770886d10e5b76afd088ce281b7076b81627dc8ed0008ebf6f07b"
  },
  "kernelspec": {
   "display_name": "Python 3.9.7 64-bit ('base': conda)",
   "language": "python",
   "name": "python3"
  },
  "language_info": {
   "codemirror_mode": {
    "name": "ipython",
    "version": 3
   },
   "file_extension": ".py",
   "mimetype": "text/x-python",
   "name": "python",
   "nbconvert_exporter": "python",
   "pygments_lexer": "ipython3",
   "version": "3.9.7"
  },
  "orig_nbformat": 4
 },
 "nbformat": 4,
 "nbformat_minor": 2
}
