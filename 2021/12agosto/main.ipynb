{
 "cells": [
  {
   "cell_type": "code",
   "execution_count": 4,
   "metadata": {},
   "outputs": [],
   "source": [
    "import numpy as np\n",
    "import pandas as pd\n",
    "\n",
    "data = pd.read_csv(\"./datos.csv\",skipinitialspace=True)\n",
    "\n",
    "def minusculas(x):\n",
    "  if type(x) == str:\n",
    "    return x.lower()\n",
    "  else:\n",
    "    return x\n",
    "\n",
    "def Numeros(x):\n",
    "    x = str(x)\n",
    "    for char in x:\n",
    "        if not char.isnumeric() and char != \".\":\n",
    "            x = x.replace(char, \"\")\n",
    "    return x\n",
    "\n",
    "def Sexos(x):\n",
    "    x = str(x)\n",
    "    x.lower()\n",
    "    if x.startswith('m'):\n",
    "        x = 'm'\n",
    "    elif x.startswith('h'):\n",
    "        x = 'h'\n",
    "    elif x.startswith('n'):\n",
    "        x = 'nb'\n",
    "    else:\n",
    "        x = np.nan\n",
    "    return x\n",
    "\n",
    "def Observaciones(x):\n",
    "    x = str(x)\n",
    "    if x.startswith('hiper'):\n",
    "        x = \"hipertension\"\n",
    "    elif x.__contains__(\"cabeza\"):\n",
    "        x = \"dolor de cabeza\"\n",
    "    else:\n",
    "        x = \"ninguna\"\n",
    "    return x\n",
    "\n",
    "def LU(x):\n",
    "    x = str(x)\n",
    "    for char in x:\n",
    "        if not char.isnumeric():\n",
    "            x = x.replace(char,\"/\")\n",
    "        x = x.replace(\"//\",\"/\")\n",
    "    return x\n",
    "\n",
    "def Null(x):\n",
    "    if x == \"\":\n",
    "        x = np.nan\n",
    "    return x"
   ]
  },
  {
   "cell_type": "code",
   "execution_count": 5,
   "metadata": {},
   "outputs": [
    {
     "name": "stdout",
     "output_type": "stream",
     "text": [
      "    Edad Altura  Peso  Promedio Sexo      LU      Observación\n",
      "0     25   1.80    83      7.79    h  125/89          ninguna\n",
      "1     21   1.89    86      9.70    h   35/88          ninguna\n",
      "2     39   1.54    50      7.10    m  142/80     hipertension\n",
      "3     49   1.66    70      6.54    m  553/83          ninguna\n",
      "4     31   1.70    81      7.21    h  495/83     hipertension\n",
      "5     33   1.74    93      7.10    h   25/78          ninguna\n",
      "6     29   1.81  82.5      6.90    h  445/81          ninguna\n",
      "7     19   1.82  86.3      8.43    h    5/84          ninguna\n",
      "8     20   1.76    75     10.00    m    1/81          ninguna\n",
      "10    32   1.64    60      9.10    m  400/80          ninguna\n",
      "11    59   1.70    67      8.99   nb  100/89          ninguna\n",
      "12    34   1.81    97      7.46    h    1/89          ninguna\n",
      "13    49   1.78   432      7.41    h  500/86  dolor de cabeza\n",
      "14    51   1.77    75      9.10    h   25/85     hipertension\n",
      "17    41   1.80     8      9.20    h  099/89          ninguna\n",
      "19    28   1.68    68      7.54    m  145/81          ninguna\n"
     ]
    }
   ],
   "source": [
    "data = data.applymap(minusculas)\n",
    "data[\"Altura\"] = data[\"Altura\"].apply(Numeros)\n",
    "data[\"Peso\"] = data[\"Peso\"].apply(Numeros)\n",
    "data[\"Sexo\"] = data[\"Sexo\"].apply(Sexos)\n",
    "data[\"Observación\"] = data[\"Observación\"].apply(Observaciones)\n",
    "data[\"LU\"] = data[\"LU\"].apply(LU)\n",
    "data = data.applymap(Null)\n",
    "data = data.dropna()\n",
    "\n",
    "print(data)\n",
    "data.to_csv('./dataLimpia.csv')"
   ]
  }
 ],
 "metadata": {
  "interpreter": {
   "hash": "986ac33fa98770886d10e5b76afd088ce281b7076b81627dc8ed0008ebf6f07b"
  },
  "kernelspec": {
   "display_name": "Python 3.8.8 64-bit ('base': conda)",
   "language": "python",
   "name": "python3"
  },
  "language_info": {
   "codemirror_mode": {
    "name": "ipython",
    "version": 3
   },
   "file_extension": ".py",
   "mimetype": "text/x-python",
   "name": "python",
   "nbconvert_exporter": "python",
   "pygments_lexer": "ipython3",
   "version": "3.9.7"
  },
  "orig_nbformat": 4
 },
 "nbformat": 4,
 "nbformat_minor": 2
}
