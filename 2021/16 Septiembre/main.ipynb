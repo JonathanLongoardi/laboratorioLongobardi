{
 "cells": [
  {
   "cell_type": "code",
   "execution_count": 2,
   "metadata": {},
   "outputs": [],
   "source": [
    "import requests\n",
    "import pandas as pd\n",
    "from bs4 import BeautifulSoup\n",
    "\n",
    "def obtenerTexto(valor):\n",
    "    textos = []\n",
    "    for x in valor:\n",
    "        textos.append(x.getText())\n",
    "    return textos\n",
    "\n",
    "if __name__ == '__main__':\n",
    "\n",
    "        pagina = requests.get(\"https://liquipedia.net/valorant/Portal:Tournaments\")\n",
    "        objeto_sopa = BeautifulSoup(pagina.content, 'html.parser')\n",
    "        diccionario = {}\n",
    "\n",
    "        nombre = objeto_sopa.find_all(\"div\",class_=\"divCell Tournament Header\")\n",
    "        diccionario[\"Nombre\"] = obtenerTexto(nombre)\n",
    "\n",
    "        fecha = objeto_sopa.find_all(\"div\",class_=\"divCell EventDetails Date Header\")\n",
    "        diccionario[\"Fecha\"] = obtenerTexto(fecha)\n",
    "\n",
    "        premio = objeto_sopa.find_all(\"div\",class_=\"divCell EventDetails Prize Header\")\n",
    "        diccionario[\"Premio\"] = obtenerTexto(premio)\n",
    "\n",
    "\n",
    "        ubicacion = objeto_sopa.find_all(\"div\",class_=\"divCell EventDetails Location Header\")\n",
    "        diccionario[\"Ubicacion\"] = obtenerTexto(ubicacion)\n",
    "\n",
    "\n",
    "        data = pd.DataFrame(diccionario)\n",
    "        data.to_csv(\"./torneosV.csv\")"
   ]
  }
 ],
 "metadata": {
  "interpreter": {
   "hash": "986ac33fa98770886d10e5b76afd088ce281b7076b81627dc8ed0008ebf6f07b"
  },
  "kernelspec": {
   "display_name": "Python 3.9.7 64-bit ('base': conda)",
   "language": "python",
   "name": "python3"
  },
  "language_info": {
   "codemirror_mode": {
    "name": "ipython",
    "version": 3
   },
   "file_extension": ".py",
   "mimetype": "text/x-python",
   "name": "python",
   "nbconvert_exporter": "python",
   "pygments_lexer": "ipython3",
   "version": "3.9.7"
  },
  "orig_nbformat": 4
 },
 "nbformat": 4,
 "nbformat_minor": 2
}
