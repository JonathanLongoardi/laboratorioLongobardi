{
 "cells": [
  {
   "cell_type": "code",
   "execution_count": 1,
   "metadata": {
    "collapsed": true
   },
   "outputs": [],
   "source": [
    "import pandas as pd\n",
    "import matplotlib.pyplot as gf1\n",
    "data = pd.read_csv(\"../data/EncuestasNadia.csv\")"
   ]
  },
  {
   "cell_type": "code",
   "execution_count": 2,
   "outputs": [
    {
      "metadata": {
      "needs_background": "light"
     },
     "output_type": "display_data"
    }
   ],
   "source": [
    "x = data['Cual_es_tu_juego_favorito'].unique()\n",
    "y = data['Cual_es_tu_juego_favorito'].value_counts().tolist()\n",
    "\n",
    "gf1.bar(x,y)\n",
    "gf1.xlabel('juego')\n",
    "gf1.ylabel('Cantidad de personas que eligio un juego')\n",
    "gf1.xticks(rotation=90,fontsize=12)\n",
    "gf1.show()\n"
   ],
   "metadata": {
    "collapsed": false,
    "pycharm": {
     "name": "#%%\n"
    }
   }
  },
 ],
 "metadata": {
  "kernelspec": {
   "name": "pycharm-16a628c7",
   "language": "python",
   "display_name": "PyCharm (TP4 - FormsGraficos)"
  },
  "language_info": {
   "codemirror_mode": {
    "name": "ipython",
    "version": 2
   },
   "file_extension": ".py",
   "mimetype": "text/x-python",
   "name": "python",
   "nbconvert_exporter": "python",
   "pygments_lexer": "ipython2",
   "version": "2.7.6"
  }
 },
 "nbformat": 4,
 "nbformat_minor": 0
}